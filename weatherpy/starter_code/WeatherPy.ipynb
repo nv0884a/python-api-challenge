{
 "cells": [
  {
   "cell_type": "markdown",
   "metadata": {},
   "source": [
    "# WeatherPy\n",
    "\n",
    "---\n",
    "\n",
    "## Starter Code to Generate Random Geographic Coordinates and a List of Cities"
   ]
  },
  {
   "cell_type": "code",
   "execution_count": 1,
   "metadata": {
    "scrolled": true
   },
   "outputs": [],
   "source": [
    "# Dependencies and Setup\n",
    "import matplotlib.pyplot as plt\n",
    "import pandas as pd\n",
    "import numpy as np\n",
    "import requests\n",
    "import time\n",
    "from scipy.stats import linregress\n",
    "\n",
    "# Impor the OpenWeatherMap API key\n",
    "from api_keys import weather_api_key\n",
    "\n",
    "# Import citipy to determine the cities based on latitude and longitude\n",
    "from citipy import citipy"
   ]
  },
  {
   "cell_type": "markdown",
   "metadata": {},
   "source": [
    "### Generate the Cities List by Using the `citipy` Library"
   ]
  },
  {
   "cell_type": "code",
   "execution_count": 2,
   "metadata": {},
   "outputs": [
    {
     "name": "stdout",
     "output_type": "stream",
     "text": [
      "Number of cities in the list: 24\n",
      "f844ac39b6b1bdb398c522bcd361711b\n",
      "san quintin\n"
     ]
    }
   ],
   "source": [
    "# Empty list for holding the latitude and longitude combinations\n",
    "lat_lngs = []\n",
    "\n",
    "# Empty list for holding the cities names\n",
    "cities = []\n",
    "\n",
    "# Range of latitudes and longitudes\n",
    "lat_range = (-90, 90)\n",
    "lng_range = (-180, 180)\n",
    "\n",
    "# Create a set of random lat and lng combinations\n",
    "lats = np.random.uniform(lat_range[0], lat_range[1], size=25)\n",
    "lngs = np.random.uniform(lng_range[0], lng_range[1], size=25)\n",
    "lat_lngs = zip(lats, lngs)\n",
    "\n",
    "# Identify nearest city for each lat, lng combination\n",
    "for lat_lng in lat_lngs:\n",
    "    city = citipy.nearest_city(lat_lng[0], lat_lng[1]).city_name\n",
    "    \n",
    "    # If the city is unique, then add it to a our cities list\n",
    "    if city not in cities:\n",
    "        cities.append(city)\n",
    "\n",
    "# Print the city count to confirm sufficient count\n",
    "print(f\"Number of cities in the list: {len(cities)}\")\n",
    "print(weather_key)\n",
    "print(city)"
   ]
  },
  {
   "cell_type": "markdown",
   "metadata": {},
   "source": [
    "---"
   ]
  },
  {
   "cell_type": "markdown",
   "metadata": {},
   "source": [
    "## Requirement 1: Create Plots to Showcase the Relationship Between Weather Variables and Latitude\n",
    "\n",
    "### Use the OpenWeatherMap API to retrieve weather data from the cities list generated in the started code"
   ]
  },
  {
   "cell_type": "code",
   "execution_count": 3,
   "metadata": {},
   "outputs": [
    {
     "name": "stdout",
     "output_type": "stream",
     "text": [
      "Beginning Data Retrieval     \n",
      "-----------------------------\n",
      "Processing Record 1 of Set 1 | tsihombe\n",
      "City not found. Skipping...\n",
      "Processing Record 2 of Set 1 | langsa\n",
      "Processing Record 3 of Set 1 | la palma\n",
      "Processing Record 4 of Set 1 | palabuhanratu\n",
      "City not found. Skipping...\n",
      "Processing Record 5 of Set 1 | atuona\n",
      "Processing Record 6 of Set 1 | hilo\n",
      "Processing Record 7 of Set 1 | port elizabeth\n",
      "Processing Record 8 of Set 1 | nizwa\n",
      "Processing Record 9 of Set 1 | pindi gheb\n",
      "Processing Record 10 of Set 1 | oranjemund\n",
      "Processing Record 11 of Set 1 | paita\n",
      "Processing Record 12 of Set 1 | kapaa\n",
      "Processing Record 13 of Set 1 | hit\n",
      "Processing Record 14 of Set 1 | mataura\n",
      "Processing Record 15 of Set 1 | punta arenas\n",
      "Processing Record 16 of Set 1 | butaritari\n",
      "Processing Record 17 of Set 1 | guerrero negro\n",
      "Processing Record 18 of Set 1 | bintulu\n",
      "Processing Record 19 of Set 1 | biloela\n",
      "Processing Record 20 of Set 1 | khatanga\n",
      "Processing Record 21 of Set 1 | antrim\n",
      "Processing Record 22 of Set 1 | vaxjo\n",
      "Processing Record 23 of Set 1 | hermanus\n",
      "Processing Record 24 of Set 1 | san quintin\n",
      "-----------------------------\n",
      "Data Retrieval Complete      \n",
      "-----------------------------\n"
     ]
    }
   ],
   "source": [
    "# Set the API base URL\n",
    "url = \"http://api.openweathermap.org/data/2.5/weather?\"\n",
    "\n",
    "#query_url = url + \"q=\" + city + \"&appid=\" + weather_key\n",
    "\n",
    "# Define an empty list to fetch the weather data for each city\n",
    "city_data = []\n",
    "\n",
    "# Print to logger\n",
    "print(\"Beginning Data Retrieval     \")\n",
    "print(\"-----------------------------\")\n",
    "\n",
    "# Create counters\n",
    "record_count = 1\n",
    "set_count = 1\n",
    "\n",
    "# Loop through all the cities in our list to fetch weather data\n",
    "for i, city in enumerate(cities):\n",
    "        \n",
    "    # Group cities in sets of 50 for logging purposes\n",
    "    if (i % 50 == 0 and i >= 50):\n",
    "        set_count += 1\n",
    "        record_count = 0\n",
    "    \n",
    "    city_url = url + \"q=\" + city + \"&appid=\" + weather_api_key\n",
    "\n",
    "    # Create endpoint URL with each city\n",
    "    city_url = requests.get(city_url)\n",
    "    \n",
    "    # Log the url, record, and set numbers\n",
    "    print(\"Processing Record %s of Set %s | %s\" % (record_count, set_count, city))\n",
    "\n",
    "    # Add 1 to the record count\n",
    "    record_count += 1\n",
    "\n",
    "    # Run an API request for each of the cities\n",
    "    try:\n",
    "        # Parse the JSON and retrieve data\n",
    "        city_weather = city_url.json() \n",
    "\n",
    "        # Parse out latitude, longitude, max temp, humidity, cloudiness, wind speed, country, and date\n",
    "        city_lat = city_weather[\"coord\"][\"lat\"]\n",
    "        city_lng = city_weather[\"coord\"][\"lon\"]\n",
    "        city_max_temp = city_weather[\"main\"][\"temp_max\"]\n",
    "        city_humidity = city_weather[\"main\"][\"temp_min\"]\n",
    "        city_clouds = city_weather[\"clouds\"][\"all\"]\n",
    "        city_wind = city_weather[\"wind\"][\"speed\"]\n",
    "        city_country = city_weather[\"sys\"][\"country\"]\n",
    "        city_date = city_weather[\"dt\"]\n",
    "    \n",
    "        # Append the City information into city_data list\n",
    "        city_data.append({\"City\": city, \n",
    "                          \"Lat\": city_lat, \n",
    "                          \"Lng\": city_lng, \n",
    "                          \"Max Temp\": city_max_temp,\n",
    "                          \"Humidity\": city_humidity,\n",
    "                          \"Cloudiness\": city_clouds,\n",
    "                          \"Wind Speed\": city_wind,\n",
    "                          \"Country\": city_country,\n",
    "                          \"Date\": city_date})\n",
    "        \n",
    "    # If an error is experienced, skip the city\n",
    "    except:\n",
    "        print(\"City not found. Skipping...\")\n",
    "        pass\n",
    "              \n",
    "# Indicate that Data Loading is complete \n",
    "print(\"-----------------------------\")\n",
    "print(\"Data Retrieval Complete      \")\n",
    "print(\"-----------------------------\")"
   ]
  },
  {
   "cell_type": "code",
   "execution_count": 4,
   "metadata": {},
   "outputs": [
    {
     "data": {
      "text/plain": [
       "30.4833"
      ]
     },
     "execution_count": 4,
     "metadata": {},
     "output_type": "execute_result"
    }
   ],
   "source": [
    "city_lat"
   ]
  },
  {
   "cell_type": "code",
   "execution_count": 5,
   "metadata": {},
   "outputs": [
    {
     "name": "stdout",
     "output_type": "stream",
     "text": [
      "[{'City': 'langsa', 'Lat': 4.4683, 'Lng': 97.9683, 'Max Temp': 296.18, 'Humidity': 296.18, 'Cloudiness': 100, 'Wind Speed': 1.28, 'Country': 'ID', 'Date': 1679611961}, {'City': 'la palma', 'Lat': 33.8464, 'Lng': -118.0467, 'Max Temp': 290.53, 'Humidity': 286.55, 'Cloudiness': 75, 'Wind Speed': 6.17, 'Country': 'US', 'Date': 1679611961}, {'City': 'atuona', 'Lat': -9.8, 'Lng': -139.0333, 'Max Temp': 300.26, 'Humidity': 300.26, 'Cloudiness': 16, 'Wind Speed': 5.18, 'Country': 'PF', 'Date': 1679611961}, {'City': 'hilo', 'Lat': 19.7297, 'Lng': -155.09, 'Max Temp': 300.53, 'Humidity': 297.1, 'Cloudiness': 20, 'Wind Speed': 6.69, 'Country': 'US', 'Date': 1679611957}, {'City': 'port elizabeth', 'Lat': -33.918, 'Lng': 25.5701, 'Max Temp': 293.88, 'Humidity': 293.88, 'Cloudiness': 100, 'Wind Speed': 0.89, 'Country': 'ZA', 'Date': 1679611962}, {'City': 'nizwa', 'Lat': 22.9333, 'Lng': 57.5333, 'Max Temp': 291.46, 'Humidity': 291.46, 'Cloudiness': 0, 'Wind Speed': 1.1, 'Country': 'OM', 'Date': 1679611962}, {'City': 'pindi gheb', 'Lat': 33.2402, 'Lng': 72.2661, 'Max Temp': 289.03, 'Humidity': 289.03, 'Cloudiness': 100, 'Wind Speed': 2.17, 'Country': 'PK', 'Date': 1679611962}, {'City': 'oranjemund', 'Lat': -28.55, 'Lng': 16.4333, 'Max Temp': 289.69, 'Humidity': 289.69, 'Cloudiness': 0, 'Wind Speed': 5.16, 'Country': 'NA', 'Date': 1679611963}, {'City': 'paita', 'Lat': -5.0892, 'Lng': -81.1144, 'Max Temp': 300.34, 'Humidity': 300.34, 'Cloudiness': 44, 'Wind Speed': 4.24, 'Country': 'PE', 'Date': 1679611963}, {'City': 'kapaa', 'Lat': 22.0752, 'Lng': -159.319, 'Max Temp': 299.53, 'Humidity': 297.33, 'Cloudiness': 20, 'Wind Speed': 5.14, 'Country': 'US', 'Date': 1679611963}, {'City': 'hit', 'Lat': 33.6416, 'Lng': 42.8251, 'Max Temp': 292.74, 'Humidity': 292.74, 'Cloudiness': 100, 'Wind Speed': 2.66, 'Country': 'IQ', 'Date': 1679611963}, {'City': 'mataura', 'Lat': -46.1927, 'Lng': 168.8643, 'Max Temp': 287.86, 'Humidity': 287.86, 'Cloudiness': 88, 'Wind Speed': 0.89, 'Country': 'NZ', 'Date': 1679611964}, {'City': 'punta arenas', 'Lat': -53.15, 'Lng': -70.9167, 'Max Temp': 282.21, 'Humidity': 282.1, 'Cloudiness': 75, 'Wind Speed': 6.69, 'Country': 'CL', 'Date': 1679611843}, {'City': 'butaritari', 'Lat': 3.0707, 'Lng': 172.7902, 'Max Temp': 300.94, 'Humidity': 300.94, 'Cloudiness': 79, 'Wind Speed': 7.93, 'Country': 'KI', 'Date': 1679611964}, {'City': 'guerrero negro', 'Lat': 27.9769, 'Lng': -114.0611, 'Max Temp': 289.72, 'Humidity': 289.72, 'Cloudiness': 0, 'Wind Speed': 10.86, 'Country': 'MX', 'Date': 1679611964}, {'City': 'bintulu', 'Lat': 3.1667, 'Lng': 113.0333, 'Max Temp': 298.38, 'Humidity': 298.38, 'Cloudiness': 20, 'Wind Speed': 1.03, 'Country': 'MY', 'Date': 1679611965}, {'City': 'biloela', 'Lat': -24.4167, 'Lng': 150.5, 'Max Temp': 298.44, 'Humidity': 298.44, 'Cloudiness': 0, 'Wind Speed': 1.75, 'Country': 'AU', 'Date': 1679611965}, {'City': 'khatanga', 'Lat': 71.9667, 'Lng': 102.5, 'Max Temp': 265.98, 'Humidity': 265.98, 'Cloudiness': 100, 'Wind Speed': 3.11, 'Country': 'RU', 'Date': 1679611965}, {'City': 'antrim', 'Lat': 54.6667, 'Lng': -6.25, 'Max Temp': 280.91, 'Humidity': 279.94, 'Cloudiness': 40, 'Wind Speed': 6.17, 'Country': 'GB', 'Date': 1679611966}, {'City': 'vaxjo', 'Lat': 56.8777, 'Lng': 14.8091, 'Max Temp': 277.18, 'Humidity': 275.72, 'Cloudiness': 0, 'Wind Speed': 3.6, 'Country': 'SE', 'Date': 1679611966}, {'City': 'hermanus', 'Lat': -34.4187, 'Lng': 19.2345, 'Max Temp': 292.48, 'Humidity': 292.48, 'Cloudiness': 100, 'Wind Speed': 7.54, 'Country': 'ZA', 'Date': 1679611966}, {'City': 'san quintin', 'Lat': 30.4833, 'Lng': -115.95, 'Max Temp': 288.23, 'Humidity': 288.23, 'Cloudiness': 2, 'Wind Speed': 9.55, 'Country': 'MX', 'Date': 1679611966}]\n"
     ]
    }
   ],
   "source": [
    "#city_weather = city_url.json() \n",
    "#city_lat = city_weather[\"timezone\"]\n",
    "print(city_data)"
   ]
  },
  {
   "cell_type": "code",
   "execution_count": 6,
   "metadata": {},
   "outputs": [
    {
     "data": {
      "text/plain": [
       "City          22\n",
       "Lat           22\n",
       "Lng           22\n",
       "Max Temp      22\n",
       "Humidity      22\n",
       "Cloudiness    22\n",
       "Wind Speed    22\n",
       "Country       22\n",
       "Date          22\n",
       "dtype: int64"
      ]
     },
     "execution_count": 6,
     "metadata": {},
     "output_type": "execute_result"
    }
   ],
   "source": [
    "# Convert the cities weather data into a Pandas DataFrame\n",
    "city_data_df = pd.DataFrame(city_data)\n",
    "\n",
    "# Show Record Count\n",
    "city_data_df.count()"
   ]
  },
  {
   "cell_type": "code",
   "execution_count": 7,
   "metadata": {},
   "outputs": [
    {
     "data": {
      "text/html": [
       "<div>\n",
       "<style scoped>\n",
       "    .dataframe tbody tr th:only-of-type {\n",
       "        vertical-align: middle;\n",
       "    }\n",
       "\n",
       "    .dataframe tbody tr th {\n",
       "        vertical-align: top;\n",
       "    }\n",
       "\n",
       "    .dataframe thead th {\n",
       "        text-align: right;\n",
       "    }\n",
       "</style>\n",
       "<table border=\"1\" class=\"dataframe\">\n",
       "  <thead>\n",
       "    <tr style=\"text-align: right;\">\n",
       "      <th></th>\n",
       "      <th>City</th>\n",
       "      <th>Lat</th>\n",
       "      <th>Lng</th>\n",
       "      <th>Max Temp</th>\n",
       "      <th>Humidity</th>\n",
       "      <th>Cloudiness</th>\n",
       "      <th>Wind Speed</th>\n",
       "      <th>Country</th>\n",
       "      <th>Date</th>\n",
       "    </tr>\n",
       "  </thead>\n",
       "  <tbody>\n",
       "    <tr>\n",
       "      <th>0</th>\n",
       "      <td>langsa</td>\n",
       "      <td>4.4683</td>\n",
       "      <td>97.9683</td>\n",
       "      <td>296.18</td>\n",
       "      <td>296.18</td>\n",
       "      <td>100</td>\n",
       "      <td>1.28</td>\n",
       "      <td>ID</td>\n",
       "      <td>1679611961</td>\n",
       "    </tr>\n",
       "    <tr>\n",
       "      <th>1</th>\n",
       "      <td>la palma</td>\n",
       "      <td>33.8464</td>\n",
       "      <td>-118.0467</td>\n",
       "      <td>290.53</td>\n",
       "      <td>286.55</td>\n",
       "      <td>75</td>\n",
       "      <td>6.17</td>\n",
       "      <td>US</td>\n",
       "      <td>1679611961</td>\n",
       "    </tr>\n",
       "    <tr>\n",
       "      <th>2</th>\n",
       "      <td>atuona</td>\n",
       "      <td>-9.8000</td>\n",
       "      <td>-139.0333</td>\n",
       "      <td>300.26</td>\n",
       "      <td>300.26</td>\n",
       "      <td>16</td>\n",
       "      <td>5.18</td>\n",
       "      <td>PF</td>\n",
       "      <td>1679611961</td>\n",
       "    </tr>\n",
       "    <tr>\n",
       "      <th>3</th>\n",
       "      <td>hilo</td>\n",
       "      <td>19.7297</td>\n",
       "      <td>-155.0900</td>\n",
       "      <td>300.53</td>\n",
       "      <td>297.10</td>\n",
       "      <td>20</td>\n",
       "      <td>6.69</td>\n",
       "      <td>US</td>\n",
       "      <td>1679611957</td>\n",
       "    </tr>\n",
       "    <tr>\n",
       "      <th>4</th>\n",
       "      <td>port elizabeth</td>\n",
       "      <td>-33.9180</td>\n",
       "      <td>25.5701</td>\n",
       "      <td>293.88</td>\n",
       "      <td>293.88</td>\n",
       "      <td>100</td>\n",
       "      <td>0.89</td>\n",
       "      <td>ZA</td>\n",
       "      <td>1679611962</td>\n",
       "    </tr>\n",
       "    <tr>\n",
       "      <th>5</th>\n",
       "      <td>nizwa</td>\n",
       "      <td>22.9333</td>\n",
       "      <td>57.5333</td>\n",
       "      <td>291.46</td>\n",
       "      <td>291.46</td>\n",
       "      <td>0</td>\n",
       "      <td>1.10</td>\n",
       "      <td>OM</td>\n",
       "      <td>1679611962</td>\n",
       "    </tr>\n",
       "    <tr>\n",
       "      <th>6</th>\n",
       "      <td>pindi gheb</td>\n",
       "      <td>33.2402</td>\n",
       "      <td>72.2661</td>\n",
       "      <td>289.03</td>\n",
       "      <td>289.03</td>\n",
       "      <td>100</td>\n",
       "      <td>2.17</td>\n",
       "      <td>PK</td>\n",
       "      <td>1679611962</td>\n",
       "    </tr>\n",
       "    <tr>\n",
       "      <th>7</th>\n",
       "      <td>oranjemund</td>\n",
       "      <td>-28.5500</td>\n",
       "      <td>16.4333</td>\n",
       "      <td>289.69</td>\n",
       "      <td>289.69</td>\n",
       "      <td>0</td>\n",
       "      <td>5.16</td>\n",
       "      <td>NA</td>\n",
       "      <td>1679611963</td>\n",
       "    </tr>\n",
       "    <tr>\n",
       "      <th>8</th>\n",
       "      <td>paita</td>\n",
       "      <td>-5.0892</td>\n",
       "      <td>-81.1144</td>\n",
       "      <td>300.34</td>\n",
       "      <td>300.34</td>\n",
       "      <td>44</td>\n",
       "      <td>4.24</td>\n",
       "      <td>PE</td>\n",
       "      <td>1679611963</td>\n",
       "    </tr>\n",
       "    <tr>\n",
       "      <th>9</th>\n",
       "      <td>kapaa</td>\n",
       "      <td>22.0752</td>\n",
       "      <td>-159.3190</td>\n",
       "      <td>299.53</td>\n",
       "      <td>297.33</td>\n",
       "      <td>20</td>\n",
       "      <td>5.14</td>\n",
       "      <td>US</td>\n",
       "      <td>1679611963</td>\n",
       "    </tr>\n",
       "    <tr>\n",
       "      <th>10</th>\n",
       "      <td>hit</td>\n",
       "      <td>33.6416</td>\n",
       "      <td>42.8251</td>\n",
       "      <td>292.74</td>\n",
       "      <td>292.74</td>\n",
       "      <td>100</td>\n",
       "      <td>2.66</td>\n",
       "      <td>IQ</td>\n",
       "      <td>1679611963</td>\n",
       "    </tr>\n",
       "    <tr>\n",
       "      <th>11</th>\n",
       "      <td>mataura</td>\n",
       "      <td>-46.1927</td>\n",
       "      <td>168.8643</td>\n",
       "      <td>287.86</td>\n",
       "      <td>287.86</td>\n",
       "      <td>88</td>\n",
       "      <td>0.89</td>\n",
       "      <td>NZ</td>\n",
       "      <td>1679611964</td>\n",
       "    </tr>\n",
       "    <tr>\n",
       "      <th>12</th>\n",
       "      <td>punta arenas</td>\n",
       "      <td>-53.1500</td>\n",
       "      <td>-70.9167</td>\n",
       "      <td>282.21</td>\n",
       "      <td>282.10</td>\n",
       "      <td>75</td>\n",
       "      <td>6.69</td>\n",
       "      <td>CL</td>\n",
       "      <td>1679611843</td>\n",
       "    </tr>\n",
       "    <tr>\n",
       "      <th>13</th>\n",
       "      <td>butaritari</td>\n",
       "      <td>3.0707</td>\n",
       "      <td>172.7902</td>\n",
       "      <td>300.94</td>\n",
       "      <td>300.94</td>\n",
       "      <td>79</td>\n",
       "      <td>7.93</td>\n",
       "      <td>KI</td>\n",
       "      <td>1679611964</td>\n",
       "    </tr>\n",
       "    <tr>\n",
       "      <th>14</th>\n",
       "      <td>guerrero negro</td>\n",
       "      <td>27.9769</td>\n",
       "      <td>-114.0611</td>\n",
       "      <td>289.72</td>\n",
       "      <td>289.72</td>\n",
       "      <td>0</td>\n",
       "      <td>10.86</td>\n",
       "      <td>MX</td>\n",
       "      <td>1679611964</td>\n",
       "    </tr>\n",
       "    <tr>\n",
       "      <th>15</th>\n",
       "      <td>bintulu</td>\n",
       "      <td>3.1667</td>\n",
       "      <td>113.0333</td>\n",
       "      <td>298.38</td>\n",
       "      <td>298.38</td>\n",
       "      <td>20</td>\n",
       "      <td>1.03</td>\n",
       "      <td>MY</td>\n",
       "      <td>1679611965</td>\n",
       "    </tr>\n",
       "    <tr>\n",
       "      <th>16</th>\n",
       "      <td>biloela</td>\n",
       "      <td>-24.4167</td>\n",
       "      <td>150.5000</td>\n",
       "      <td>298.44</td>\n",
       "      <td>298.44</td>\n",
       "      <td>0</td>\n",
       "      <td>1.75</td>\n",
       "      <td>AU</td>\n",
       "      <td>1679611965</td>\n",
       "    </tr>\n",
       "    <tr>\n",
       "      <th>17</th>\n",
       "      <td>khatanga</td>\n",
       "      <td>71.9667</td>\n",
       "      <td>102.5000</td>\n",
       "      <td>265.98</td>\n",
       "      <td>265.98</td>\n",
       "      <td>100</td>\n",
       "      <td>3.11</td>\n",
       "      <td>RU</td>\n",
       "      <td>1679611965</td>\n",
       "    </tr>\n",
       "    <tr>\n",
       "      <th>18</th>\n",
       "      <td>antrim</td>\n",
       "      <td>54.6667</td>\n",
       "      <td>-6.2500</td>\n",
       "      <td>280.91</td>\n",
       "      <td>279.94</td>\n",
       "      <td>40</td>\n",
       "      <td>6.17</td>\n",
       "      <td>GB</td>\n",
       "      <td>1679611966</td>\n",
       "    </tr>\n",
       "    <tr>\n",
       "      <th>19</th>\n",
       "      <td>vaxjo</td>\n",
       "      <td>56.8777</td>\n",
       "      <td>14.8091</td>\n",
       "      <td>277.18</td>\n",
       "      <td>275.72</td>\n",
       "      <td>0</td>\n",
       "      <td>3.60</td>\n",
       "      <td>SE</td>\n",
       "      <td>1679611966</td>\n",
       "    </tr>\n",
       "    <tr>\n",
       "      <th>20</th>\n",
       "      <td>hermanus</td>\n",
       "      <td>-34.4187</td>\n",
       "      <td>19.2345</td>\n",
       "      <td>292.48</td>\n",
       "      <td>292.48</td>\n",
       "      <td>100</td>\n",
       "      <td>7.54</td>\n",
       "      <td>ZA</td>\n",
       "      <td>1679611966</td>\n",
       "    </tr>\n",
       "    <tr>\n",
       "      <th>21</th>\n",
       "      <td>san quintin</td>\n",
       "      <td>30.4833</td>\n",
       "      <td>-115.9500</td>\n",
       "      <td>288.23</td>\n",
       "      <td>288.23</td>\n",
       "      <td>2</td>\n",
       "      <td>9.55</td>\n",
       "      <td>MX</td>\n",
       "      <td>1679611966</td>\n",
       "    </tr>\n",
       "  </tbody>\n",
       "</table>\n",
       "</div>"
      ],
      "text/plain": [
       "              City      Lat       Lng  Max Temp  Humidity  Cloudiness  \\\n",
       "0           langsa   4.4683   97.9683    296.18    296.18         100   \n",
       "1         la palma  33.8464 -118.0467    290.53    286.55          75   \n",
       "2           atuona  -9.8000 -139.0333    300.26    300.26          16   \n",
       "3             hilo  19.7297 -155.0900    300.53    297.10          20   \n",
       "4   port elizabeth -33.9180   25.5701    293.88    293.88         100   \n",
       "5            nizwa  22.9333   57.5333    291.46    291.46           0   \n",
       "6       pindi gheb  33.2402   72.2661    289.03    289.03         100   \n",
       "7       oranjemund -28.5500   16.4333    289.69    289.69           0   \n",
       "8            paita  -5.0892  -81.1144    300.34    300.34          44   \n",
       "9            kapaa  22.0752 -159.3190    299.53    297.33          20   \n",
       "10             hit  33.6416   42.8251    292.74    292.74         100   \n",
       "11         mataura -46.1927  168.8643    287.86    287.86          88   \n",
       "12    punta arenas -53.1500  -70.9167    282.21    282.10          75   \n",
       "13      butaritari   3.0707  172.7902    300.94    300.94          79   \n",
       "14  guerrero negro  27.9769 -114.0611    289.72    289.72           0   \n",
       "15         bintulu   3.1667  113.0333    298.38    298.38          20   \n",
       "16         biloela -24.4167  150.5000    298.44    298.44           0   \n",
       "17        khatanga  71.9667  102.5000    265.98    265.98         100   \n",
       "18          antrim  54.6667   -6.2500    280.91    279.94          40   \n",
       "19           vaxjo  56.8777   14.8091    277.18    275.72           0   \n",
       "20        hermanus -34.4187   19.2345    292.48    292.48         100   \n",
       "21     san quintin  30.4833 -115.9500    288.23    288.23           2   \n",
       "\n",
       "    Wind Speed Country        Date  \n",
       "0         1.28      ID  1679611961  \n",
       "1         6.17      US  1679611961  \n",
       "2         5.18      PF  1679611961  \n",
       "3         6.69      US  1679611957  \n",
       "4         0.89      ZA  1679611962  \n",
       "5         1.10      OM  1679611962  \n",
       "6         2.17      PK  1679611962  \n",
       "7         5.16      NA  1679611963  \n",
       "8         4.24      PE  1679611963  \n",
       "9         5.14      US  1679611963  \n",
       "10        2.66      IQ  1679611963  \n",
       "11        0.89      NZ  1679611964  \n",
       "12        6.69      CL  1679611843  \n",
       "13        7.93      KI  1679611964  \n",
       "14       10.86      MX  1679611964  \n",
       "15        1.03      MY  1679611965  \n",
       "16        1.75      AU  1679611965  \n",
       "17        3.11      RU  1679611965  \n",
       "18        6.17      GB  1679611966  \n",
       "19        3.60      SE  1679611966  \n",
       "20        7.54      ZA  1679611966  \n",
       "21        9.55      MX  1679611966  "
      ]
     },
     "execution_count": 7,
     "metadata": {},
     "output_type": "execute_result"
    }
   ],
   "source": [
    "# Display sample data\n",
    "city_data_df"
   ]
  },
  {
   "cell_type": "code",
   "execution_count": 45,
   "metadata": {},
   "outputs": [],
   "source": [
    "# Export the City_Data into a csv\n",
    "city_data_df.to_csv(\"cities.csv\", index_label=\"City_ID\")"
   ]
  },
  {
   "cell_type": "code",
   "execution_count": 46,
   "metadata": {},
   "outputs": [
    {
     "data": {
      "text/html": [
       "<div>\n",
       "<style scoped>\n",
       "    .dataframe tbody tr th:only-of-type {\n",
       "        vertical-align: middle;\n",
       "    }\n",
       "\n",
       "    .dataframe tbody tr th {\n",
       "        vertical-align: top;\n",
       "    }\n",
       "\n",
       "    .dataframe thead th {\n",
       "        text-align: right;\n",
       "    }\n",
       "</style>\n",
       "<table border=\"1\" class=\"dataframe\">\n",
       "  <thead>\n",
       "    <tr style=\"text-align: right;\">\n",
       "      <th></th>\n",
       "      <th>City</th>\n",
       "      <th>Lat</th>\n",
       "      <th>Lng</th>\n",
       "      <th>Max Temp</th>\n",
       "      <th>Humidity</th>\n",
       "      <th>Cloudiness</th>\n",
       "      <th>Wind Speed</th>\n",
       "      <th>Country</th>\n",
       "      <th>Date</th>\n",
       "    </tr>\n",
       "    <tr>\n",
       "      <th>City_ID</th>\n",
       "      <th></th>\n",
       "      <th></th>\n",
       "      <th></th>\n",
       "      <th></th>\n",
       "      <th></th>\n",
       "      <th></th>\n",
       "      <th></th>\n",
       "      <th></th>\n",
       "      <th></th>\n",
       "    </tr>\n",
       "  </thead>\n",
       "  <tbody>\n",
       "    <tr>\n",
       "      <th>0</th>\n",
       "      <td>tasiilaq</td>\n",
       "      <td>65.6145</td>\n",
       "      <td>-37.6368</td>\n",
       "      <td>260.24</td>\n",
       "      <td>260.24</td>\n",
       "      <td>0</td>\n",
       "      <td>2.90</td>\n",
       "      <td>GL</td>\n",
       "      <td>1679535533</td>\n",
       "    </tr>\n",
       "    <tr>\n",
       "      <th>1</th>\n",
       "      <td>bluff</td>\n",
       "      <td>-46.6000</td>\n",
       "      <td>168.3333</td>\n",
       "      <td>289.71</td>\n",
       "      <td>289.71</td>\n",
       "      <td>45</td>\n",
       "      <td>3.70</td>\n",
       "      <td>NZ</td>\n",
       "      <td>1679535534</td>\n",
       "    </tr>\n",
       "    <tr>\n",
       "      <th>2</th>\n",
       "      <td>doha</td>\n",
       "      <td>25.2867</td>\n",
       "      <td>51.5333</td>\n",
       "      <td>293.14</td>\n",
       "      <td>290.32</td>\n",
       "      <td>0</td>\n",
       "      <td>3.09</td>\n",
       "      <td>QA</td>\n",
       "      <td>1679535534</td>\n",
       "    </tr>\n",
       "    <tr>\n",
       "      <th>3</th>\n",
       "      <td>te anau</td>\n",
       "      <td>-45.4167</td>\n",
       "      <td>167.7167</td>\n",
       "      <td>288.34</td>\n",
       "      <td>288.34</td>\n",
       "      <td>29</td>\n",
       "      <td>0.70</td>\n",
       "      <td>NZ</td>\n",
       "      <td>1679535535</td>\n",
       "    </tr>\n",
       "    <tr>\n",
       "      <th>4</th>\n",
       "      <td>waingapu</td>\n",
       "      <td>-9.6567</td>\n",
       "      <td>120.2641</td>\n",
       "      <td>301.54</td>\n",
       "      <td>301.54</td>\n",
       "      <td>100</td>\n",
       "      <td>1.20</td>\n",
       "      <td>ID</td>\n",
       "      <td>1679535535</td>\n",
       "    </tr>\n",
       "  </tbody>\n",
       "</table>\n",
       "</div>"
      ],
      "text/plain": [
       "             City      Lat       Lng  Max Temp  Humidity  Cloudiness  \\\n",
       "City_ID                                                                \n",
       "0        tasiilaq  65.6145  -37.6368    260.24    260.24           0   \n",
       "1           bluff -46.6000  168.3333    289.71    289.71          45   \n",
       "2            doha  25.2867   51.5333    293.14    290.32           0   \n",
       "3         te anau -45.4167  167.7167    288.34    288.34          29   \n",
       "4        waingapu  -9.6567  120.2641    301.54    301.54         100   \n",
       "\n",
       "         Wind Speed Country        Date  \n",
       "City_ID                                  \n",
       "0              2.90      GL  1679535533  \n",
       "1              3.70      NZ  1679535534  \n",
       "2              3.09      QA  1679535534  \n",
       "3              0.70      NZ  1679535535  \n",
       "4              1.20      ID  1679535535  "
      ]
     },
     "execution_count": 46,
     "metadata": {},
     "output_type": "execute_result"
    }
   ],
   "source": [
    "# Read saved data\n",
    "city_data_df = pd.read_csv(\"cities.csv\", index_col=\"City_ID\")\n",
    "\n",
    "# Display sample data\n",
    "city_data_df.head()"
   ]
  },
  {
   "cell_type": "markdown",
   "metadata": {},
   "source": [
    "### Create the Scatter Plots Requested\n",
    "\n",
    "#### Latitude Vs. Temperature"
   ]
  },
  {
   "cell_type": "code",
   "execution_count": 9,
   "metadata": {
    "tags": []
   },
   "outputs": [
    {
     "data": {
      "image/png": "[encoded data removed]",
      "text/plain": [
       "<Figure size 640x480 with 1 Axes>"
      ]
     },
     "metadata": {},
     "output_type": "display_data"
    }
   ],
   "source": [
    "# Build scatter plot for latitude vs. temperature\n",
    "\n",
    "lat = city_data_df[\"Lat\"]\n",
    "temp = city_data_df[\"Max Temp\"]\n",
    "\n",
    "\n",
    "plt.title('Latitude vs Temperature')\n",
    "plt.xlabel('Latitiude')\n",
    "plt.ylabel('Max temp')\n",
    "plt.scatter(lat,temp)\n",
    "\n",
    "\n",
    "\n",
    "# Incorporate the other graph properties\n",
    "\n",
    "\n",
    "# Save the figure\n",
    "plt.savefig(\"Fig1.png\")\n",
    "\n",
    "# Show plot\n",
    "plt.show()"
   ]
  },
  {
   "cell_type": "markdown",
   "metadata": {},
   "source": [
    "#### Latitude Vs. Humidity"
   ]
  },
  {
   "cell_type": "code",
   "execution_count": 10,
   "metadata": {},
   "outputs": [
    {
     "data": {
      "image/png": "[encoded data removed]",
      "text/plain": [
       "<Figure size 640x480 with 1 Axes>"
      ]
     },
     "metadata": {},
     "output_type": "display_data"
    }
   ],
   "source": [
    "# Build the scatter plots for latitude vs. humidity\n",
    "\n",
    "humidity = city_data_df[\"Humidity\"]\n",
    "plt.title('Latitude vs Humidity')\n",
    "plt.xlabel('Latitiude')\n",
    "plt.ylabel('Humidity')\n",
    "plt.scatter(lat,humidity)\n",
    "\n",
    "\n",
    "# Incorporate the other graph properties\n",
    "\n",
    "\n",
    "# Save the figure\n",
    "plt.savefig(\"Fig2.png\")\n",
    "\n",
    "# Show plot\n",
    "plt.show()"
   ]
  },
  {
   "cell_type": "markdown",
   "metadata": {},
   "source": [
    "#### Latitude Vs. Cloudiness"
   ]
  },
  {
   "cell_type": "code",
   "execution_count": 11,
   "metadata": {},
   "outputs": [
    {
     "data": {
      "image/png": "[encoded data removed]",
      "text/plain": [
       "<Figure size 640x480 with 1 Axes>"
      ]
     },
     "metadata": {},
     "output_type": "display_data"
    }
   ],
   "source": [
    "# Build the scatter plots for latitude vs. cloudiness\n",
    "cloudy = city_data_df[\"Cloudiness\"]\n",
    "plt.title('Latitude vs Cloudiness')\n",
    "plt.xlabel('Latitiude')\n",
    "plt.ylabel('Cloudiness')\n",
    "plt.scatter(lat,cloudy)\n",
    "\n",
    "# Incorporate the other graph properties\n",
    "\n",
    "\n",
    "# Save the figure\n",
    "plt.savefig(\"Fig3.png\")\n",
    "\n",
    "# Show plot\n",
    "plt.show()"
   ]
  },
  {
   "cell_type": "markdown",
   "metadata": {},
   "source": [
    "#### Latitude vs. Wind Speed Plot"
   ]
  },
  {
   "cell_type": "code",
   "execution_count": 12,
   "metadata": {},
   "outputs": [
    {
     "data": {
      "image/png": "[encoded data removed]",
      "text/plain": [
       "<Figure size 640x480 with 1 Axes>"
      ]
     },
     "metadata": {},
     "output_type": "display_data"
    }
   ],
   "source": [
    "# Build the scatter plots for latitude vs. wind speed\n",
    "\n",
    "\n",
    "wind = city_data_df[\"Wind Speed\"]\n",
    "plt.title('Latitude vs Wind Speed')\n",
    "plt.xlabel('Latitiude')\n",
    "plt.ylabel('Wind Speed')\n",
    "plt.scatter(lat,wind)\n",
    "\n",
    "# Incorporate the other graph properties\n",
    "\n",
    "\n",
    "# Save the figure\n",
    "plt.savefig(\"Fig4.png\")\n",
    "\n",
    "# Show plot\n",
    "plt.show()"
   ]
  },
  {
   "cell_type": "markdown",
   "metadata": {},
   "source": [
    "---\n",
    "\n",
    "## Requirement 2: Compute Linear Regression for Each Relationship\n"
   ]
  },
  {
   "cell_type": "code",
   "execution_count": 30,
   "metadata": {},
   "outputs": [],
   "source": [
    "# Define a function to create Linear Regression plots\n",
    "northern_hemi_df = city_data_df.loc[city_data_df[\"Lat\"]>=0]\n",
    "southern_hemi_df = city_data_df.loc[city_data_df[\"Lat\"]<0]\n"
   ]
  },
  {
   "cell_type": "code",
   "execution_count": 31,
   "metadata": {},
   "outputs": [
    {
     "data": {
      "text/html": [
       "<div>\n",
       "<style scoped>\n",
       "    .dataframe tbody tr th:only-of-type {\n",
       "        vertical-align: middle;\n",
       "    }\n",
       "\n",
       "    .dataframe tbody tr th {\n",
       "        vertical-align: top;\n",
       "    }\n",
       "\n",
       "    .dataframe thead th {\n",
       "        text-align: right;\n",
       "    }\n",
       "</style>\n",
       "<table border=\"1\" class=\"dataframe\">\n",
       "  <thead>\n",
       "    <tr style=\"text-align: right;\">\n",
       "      <th></th>\n",
       "      <th>City</th>\n",
       "      <th>Lat</th>\n",
       "      <th>Lng</th>\n",
       "      <th>Max Temp</th>\n",
       "      <th>Humidity</th>\n",
       "      <th>Cloudiness</th>\n",
       "      <th>Wind Speed</th>\n",
       "      <th>Country</th>\n",
       "      <th>Date</th>\n",
       "    </tr>\n",
       "  </thead>\n",
       "  <tbody>\n",
       "    <tr>\n",
       "      <th>0</th>\n",
       "      <td>tasiilaq</td>\n",
       "      <td>65.6145</td>\n",
       "      <td>-37.6368</td>\n",
       "      <td>260.24</td>\n",
       "      <td>260.24</td>\n",
       "      <td>0</td>\n",
       "      <td>2.90</td>\n",
       "      <td>GL</td>\n",
       "      <td>1679535533</td>\n",
       "    </tr>\n",
       "    <tr>\n",
       "      <th>2</th>\n",
       "      <td>doha</td>\n",
       "      <td>25.2867</td>\n",
       "      <td>51.5333</td>\n",
       "      <td>293.14</td>\n",
       "      <td>290.32</td>\n",
       "      <td>0</td>\n",
       "      <td>3.09</td>\n",
       "      <td>QA</td>\n",
       "      <td>1679535534</td>\n",
       "    </tr>\n",
       "    <tr>\n",
       "      <th>5</th>\n",
       "      <td>mahibadhoo</td>\n",
       "      <td>3.7833</td>\n",
       "      <td>72.9667</td>\n",
       "      <td>300.76</td>\n",
       "      <td>300.76</td>\n",
       "      <td>100</td>\n",
       "      <td>1.44</td>\n",
       "      <td>MV</td>\n",
       "      <td>1679535535</td>\n",
       "    </tr>\n",
       "    <tr>\n",
       "      <th>6</th>\n",
       "      <td>udachnyy</td>\n",
       "      <td>66.4167</td>\n",
       "      <td>112.4000</td>\n",
       "      <td>266.18</td>\n",
       "      <td>266.18</td>\n",
       "      <td>78</td>\n",
       "      <td>9.59</td>\n",
       "      <td>RU</td>\n",
       "      <td>1679535536</td>\n",
       "    </tr>\n",
       "    <tr>\n",
       "      <th>7</th>\n",
       "      <td>chokurdakh</td>\n",
       "      <td>70.6333</td>\n",
       "      <td>147.9167</td>\n",
       "      <td>247.69</td>\n",
       "      <td>247.69</td>\n",
       "      <td>76</td>\n",
       "      <td>2.62</td>\n",
       "      <td>RU</td>\n",
       "      <td>1679535536</td>\n",
       "    </tr>\n",
       "  </tbody>\n",
       "</table>\n",
       "</div>"
      ],
      "text/plain": [
       "         City      Lat       Lng  Max Temp  Humidity  Cloudiness  Wind Speed  \\\n",
       "0    tasiilaq  65.6145  -37.6368    260.24    260.24           0        2.90   \n",
       "2        doha  25.2867   51.5333    293.14    290.32           0        3.09   \n",
       "5  mahibadhoo   3.7833   72.9667    300.76    300.76         100        1.44   \n",
       "6    udachnyy  66.4167  112.4000    266.18    266.18          78        9.59   \n",
       "7  chokurdakh  70.6333  147.9167    247.69    247.69          76        2.62   \n",
       "\n",
       "  Country        Date  \n",
       "0      GL  1679535533  \n",
       "2      QA  1679535534  \n",
       "5      MV  1679535535  \n",
       "6      RU  1679535536  \n",
       "7      RU  1679535536  "
      ]
     },
     "execution_count": 31,
     "metadata": {},
     "output_type": "execute_result"
    }
   ],
   "source": [
    "# Create a DataFrame with the Northern Hemisphere data (Latitude >= 0)\n",
    "\n",
    "\n",
    "# Display sample data\n",
    "northern_hemi_df.head()"
   ]
  },
  {
   "cell_type": "code",
   "execution_count": 32,
   "metadata": {},
   "outputs": [
    {
     "data": {
      "text/html": [
       "<div>\n",
       "<style scoped>\n",
       "    .dataframe tbody tr th:only-of-type {\n",
       "        vertical-align: middle;\n",
       "    }\n",
       "\n",
       "    .dataframe tbody tr th {\n",
       "        vertical-align: top;\n",
       "    }\n",
       "\n",
       "    .dataframe thead th {\n",
       "        text-align: right;\n",
       "    }\n",
       "</style>\n",
       "<table border=\"1\" class=\"dataframe\">\n",
       "  <thead>\n",
       "    <tr style=\"text-align: right;\">\n",
       "      <th></th>\n",
       "      <th>City</th>\n",
       "      <th>Lat</th>\n",
       "      <th>Lng</th>\n",
       "      <th>Max Temp</th>\n",
       "      <th>Humidity</th>\n",
       "      <th>Cloudiness</th>\n",
       "      <th>Wind Speed</th>\n",
       "      <th>Country</th>\n",
       "      <th>Date</th>\n",
       "    </tr>\n",
       "  </thead>\n",
       "  <tbody>\n",
       "    <tr>\n",
       "      <th>1</th>\n",
       "      <td>bluff</td>\n",
       "      <td>-46.6000</td>\n",
       "      <td>168.3333</td>\n",
       "      <td>289.71</td>\n",
       "      <td>289.71</td>\n",
       "      <td>45</td>\n",
       "      <td>3.70</td>\n",
       "      <td>NZ</td>\n",
       "      <td>1679535534</td>\n",
       "    </tr>\n",
       "    <tr>\n",
       "      <th>3</th>\n",
       "      <td>te anau</td>\n",
       "      <td>-45.4167</td>\n",
       "      <td>167.7167</td>\n",
       "      <td>288.34</td>\n",
       "      <td>288.34</td>\n",
       "      <td>29</td>\n",
       "      <td>0.70</td>\n",
       "      <td>NZ</td>\n",
       "      <td>1679535535</td>\n",
       "    </tr>\n",
       "    <tr>\n",
       "      <th>4</th>\n",
       "      <td>waingapu</td>\n",
       "      <td>-9.6567</td>\n",
       "      <td>120.2641</td>\n",
       "      <td>301.54</td>\n",
       "      <td>301.54</td>\n",
       "      <td>100</td>\n",
       "      <td>1.20</td>\n",
       "      <td>ID</td>\n",
       "      <td>1679535535</td>\n",
       "    </tr>\n",
       "    <tr>\n",
       "      <th>10</th>\n",
       "      <td>caucaia</td>\n",
       "      <td>-3.7361</td>\n",
       "      <td>-38.6531</td>\n",
       "      <td>301.12</td>\n",
       "      <td>299.28</td>\n",
       "      <td>40</td>\n",
       "      <td>2.06</td>\n",
       "      <td>BR</td>\n",
       "      <td>1679535537</td>\n",
       "    </tr>\n",
       "    <tr>\n",
       "      <th>11</th>\n",
       "      <td>hermanus</td>\n",
       "      <td>-34.4187</td>\n",
       "      <td>19.2345</td>\n",
       "      <td>295.26</td>\n",
       "      <td>295.26</td>\n",
       "      <td>99</td>\n",
       "      <td>12.14</td>\n",
       "      <td>ZA</td>\n",
       "      <td>1679535070</td>\n",
       "    </tr>\n",
       "  </tbody>\n",
       "</table>\n",
       "</div>"
      ],
      "text/plain": [
       "        City      Lat       Lng  Max Temp  Humidity  Cloudiness  Wind Speed  \\\n",
       "1      bluff -46.6000  168.3333    289.71    289.71          45        3.70   \n",
       "3    te anau -45.4167  167.7167    288.34    288.34          29        0.70   \n",
       "4   waingapu  -9.6567  120.2641    301.54    301.54         100        1.20   \n",
       "10   caucaia  -3.7361  -38.6531    301.12    299.28          40        2.06   \n",
       "11  hermanus -34.4187   19.2345    295.26    295.26          99       12.14   \n",
       "\n",
       "   Country        Date  \n",
       "1       NZ  1679535534  \n",
       "3       NZ  1679535535  \n",
       "4       ID  1679535535  \n",
       "10      BR  1679535537  \n",
       "11      ZA  1679535070  "
      ]
     },
     "execution_count": 32,
     "metadata": {},
     "output_type": "execute_result"
    }
   ],
   "source": [
    "# Create a DataFrame with the Southern Hemisphere data (Latitude < 0)\n",
    "\n",
    "\n",
    "# Display sample data\n",
    "southern_hemi_df.head()"
   ]
  },
  {
   "cell_type": "markdown",
   "metadata": {},
   "source": [
    "###  Temperature vs. Latitude Linear Regression Plot"
   ]
  },
  {
   "cell_type": "code",
   "execution_count": 35,
   "metadata": {},
   "outputs": [
    {
     "name": "stdout",
     "output_type": "stream",
     "text": [
      "R squared: 0.9062205214116775\n"
     ]
    },
    {
     "data": {
      "image/png": "[encoded data removed]",
      "text/plain": [
       "<Figure size 640x480 with 1 Axes>"
      ]
     },
     "metadata": {},
     "output_type": "display_data"
    }
   ],
   "source": [
    "# Linear regression on Northern Hemisphere\n",
    "\n",
    "nlat = northern_hemi_df[\"Lat\"]\n",
    "ntemp = northern_hemi_df[\"Max Temp\"]\n",
    "\n",
    "\n",
    "(slope, intercept, rvalue, pvalue, stderr) = linregress(nlat, ntemp)\n",
    "regress_values = nlat * slope + intercept\n",
    "line_eq = \"y = \" + str(round(slope,2)) + \"x + \" + str(round(intercept,2))\n",
    "\n",
    "plt.scatter(nlat,ntemp)\n",
    "\n",
    "plt.xlabel('Latitude')\n",
    "plt.ylabel('Max Temp')\n",
    "\n",
    "print(f\"R squared: {rvalue**2}\")\n",
    "\n",
    "# Plot regression line\n",
    "plt.plot(nlat,regress_values,\"r-\")\n",
    "plt.annotate(line_eq,(6,10),fontsize=15,color=\"red\")\n",
    "plt.show()"
   ]
  },
  {
   "cell_type": "code",
   "execution_count": 36,
   "metadata": {},
   "outputs": [
    {
     "name": "stdout",
     "output_type": "stream",
     "text": [
      "R squared: 0.9363556882846731\n"
     ]
    },
    {
     "data": {
      "image/png": "[encoded data removed]",
      "text/plain": [
       "<Figure size 640x480 with 1 Axes>"
      ]
     },
     "metadata": {},
     "output_type": "display_data"
    }
   ],
   "source": [
    "# Linear regression on Southern Hemisphere\n",
    "slat = southern_hemi_df[\"Lat\"]\n",
    "stemp = southern_hemi_df[\"Max Temp\"]\n",
    "\n",
    "\n",
    "(slope, intercept, rvalue, pvalue, stderr) = linregress(slat, stemp)\n",
    "regress_values = slat * slope + intercept\n",
    "line_eq = \"y = \" + str(round(slope,2)) + \"x + \" + str(round(intercept,2))\n",
    "\n",
    "plt.scatter(slat,stemp)\n",
    "\n",
    "plt.xlabel('Latitude')\n",
    "plt.ylabel('Max Temp')\n",
    "\n",
    "print(f\"R squared: {rvalue**2}\")\n",
    "\n",
    "# Plot regression line\n",
    "plt.plot(slat,regress_values,\"r-\")\n",
    "plt.annotate(line_eq,(6,10),fontsize=15,color=\"red\")\n",
    "plt.show()"
   ]
  },
  {
   "cell_type": "code",
   "execution_count": null,
   "metadata": {},
   "outputs": [],
   "source": [
    "#The two graphs show an opposite effect in r value."
   ]
  },
  {
   "cell_type": "markdown",
   "metadata": {},
   "source": [
    "**Discussion about the linear relationship:** YOUR RESPONSE HERE"
   ]
  },
  {
   "cell_type": "markdown",
   "metadata": {},
   "source": [
    "### Humidity vs. Latitude Linear Regression Plot"
   ]
  },
  {
   "cell_type": "code",
   "execution_count": 37,
   "metadata": {},
   "outputs": [
    {
     "name": "stdout",
     "output_type": "stream",
     "text": [
      "R squared: 0.9214685199163133\n"
     ]
    },
    {
     "data": {
      "image/png": "[encoded data removed]",
      "text/plain": [
       "<Figure size 640x480 with 1 Axes>"
      ]
     },
     "metadata": {},
     "output_type": "display_data"
    }
   ],
   "source": [
    "# Northern Hemisphere\n",
    "\n",
    "nhum = northern_hemi_df[\"Humidity\"]\n",
    "\n",
    "\n",
    "(slope, intercept, rvalue, pvalue, stderr) = linregress(nlat, nhum)\n",
    "regress_values = nlat * slope + intercept\n",
    "line_eq = \"y = \" + str(round(slope,2)) + \"x + \" + str(round(intercept,2))\n",
    "\n",
    "plt.scatter(nlat,nhum)\n",
    "\n",
    "plt.xlabel('Latitude')\n",
    "plt.ylabel('Humidity')\n",
    "\n",
    "print(f\"R squared: {rvalue**2}\")\n",
    "\n",
    "# Plot regression line\n",
    "plt.plot(nlat,regress_values,\"r-\")\n",
    "plt.annotate(line_eq,(6,10),fontsize=15,color=\"red\")\n",
    "plt.show()"
   ]
  },
  {
   "cell_type": "code",
   "execution_count": 38,
   "metadata": {},
   "outputs": [
    {
     "name": "stdout",
     "output_type": "stream",
     "text": [
      "R squared: 0.8980548247705775\n"
     ]
    },
    {
     "data": {
      "image/png": "[encoded data removed]",
      "text/plain": [
       "<Figure size 640x480 with 1 Axes>"
      ]
     },
     "metadata": {},
     "output_type": "display_data"
    }
   ],
   "source": [
    "# Southern Hemisphere\n",
    "\n",
    "shum = southern_hemi_df[\"Humidity\"]\n",
    "\n",
    "\n",
    "(slope, intercept, rvalue, pvalue, stderr) = linregress(slat, shum)\n",
    "regress_values = slat * slope + intercept\n",
    "line_eq = \"y = \" + str(round(slope,2)) + \"x + \" + str(round(intercept,2))\n",
    "\n",
    "plt.scatter(slat,shum)\n",
    "\n",
    "plt.xlabel('Latitude')\n",
    "plt.ylabel('Humidity')\n",
    "\n",
    "print(f\"R squared: {rvalue**2}\")\n",
    "\n",
    "# Plot regression line\n",
    "plt.plot(slat,regress_values,\"r-\")\n",
    "plt.annotate(line_eq,(6,10),fontsize=15,color=\"red\")\n",
    "plt.show()"
   ]
  },
  {
   "cell_type": "markdown",
   "metadata": {},
   "source": [
    "**Discussion about the linear relationship:** YOUR RESPONSE HERE"
   ]
  },
  {
   "cell_type": "markdown",
   "metadata": {},
   "source": [
    "### Cloudiness vs. Latitude Linear Regression Plot"
   ]
  },
  {
   "cell_type": "code",
   "execution_count": 39,
   "metadata": {},
   "outputs": [
    {
     "name": "stdout",
     "output_type": "stream",
     "text": [
      "R squared: 0.021388642592711626\n"
     ]
    },
    {
     "data": {
      "image/png": "[encoded data removed]",
      "text/plain": [
       "<Figure size 640x480 with 1 Axes>"
      ]
     },
     "metadata": {},
     "output_type": "display_data"
    }
   ],
   "source": [
    "# Northern Hemisphere\n",
    "ncloud = northern_hemi_df[\"Cloudiness\"]\n",
    "\n",
    "\n",
    "(slope, intercept, rvalue, pvalue, stderr) = linregress(nlat, ncloud)\n",
    "regress_values = nlat * slope + intercept\n",
    "line_eq = \"y = \" + str(round(slope,2)) + \"x + \" + str(round(intercept,2))\n",
    "\n",
    "plt.scatter(nlat,ncloud)\n",
    "\n",
    "plt.xlabel('Latitude')\n",
    "plt.ylabel('Cloudiness')\n",
    "\n",
    "print(f\"R squared: {rvalue**2}\")\n",
    "\n",
    "# Plot regression line\n",
    "plt.plot(nlat,regress_values,\"r-\")\n",
    "plt.annotate(line_eq,(6,10),fontsize=15,color=\"red\")\n",
    "plt.show()"
   ]
  },
  {
   "cell_type": "code",
   "execution_count": 40,
   "metadata": {},
   "outputs": [
    {
     "name": "stdout",
     "output_type": "stream",
     "text": [
      "R squared: 0.03455405903672505\n"
     ]
    },
    {
     "data": {
      "image/png": "[encoded data removed]",
      "text/plain": [
       "<Figure size 640x480 with 1 Axes>"
      ]
     },
     "metadata": {},
     "output_type": "display_data"
    }
   ],
   "source": [
    "# Southern Hemisphere\n",
    "scloud = southern_hemi_df[\"Cloudiness\"]\n",
    "\n",
    "\n",
    "(slope, intercept, rvalue, pvalue, stderr) = linregress(slat, scloud)\n",
    "regress_values = slat * slope + intercept\n",
    "line_eq = \"y = \" + str(round(slope,2)) + \"x + \" + str(round(intercept,2))\n",
    "\n",
    "plt.scatter(slat,scloud)\n",
    "\n",
    "plt.xlabel('Latitude')\n",
    "plt.ylabel('Cloudiness')\n",
    "\n",
    "print(f\"R squared: {rvalue**2}\")\n",
    "\n",
    "# Plot regression line\n",
    "plt.plot(slat,regress_values,\"r-\")\n",
    "plt.annotate(line_eq,(6,10),fontsize=15,color=\"red\")\n",
    "plt.show()"
   ]
  },
  {
   "cell_type": "markdown",
   "metadata": {},
   "source": [
    "**Discussion about the linear relationship:** YOUR RESPONSE HERE"
   ]
  },
  {
   "cell_type": "markdown",
   "metadata": {},
   "source": [
    "### Wind Speed vs. Latitude Linear Regression Plot"
   ]
  },
  {
   "cell_type": "code",
   "execution_count": 41,
   "metadata": {},
   "outputs": [
    {
     "name": "stdout",
     "output_type": "stream",
     "text": [
      "R squared: 0.08437176206802195\n"
     ]
    },
    {
     "data": {
      "image/png": "[encoded data removed]",
      "text/plain": [
       "<Figure size 640x480 with 1 Axes>"
      ]
     },
     "metadata": {},
     "output_type": "display_data"
    }
   ],
   "source": [
    "# Northern Hemisphere\n",
    "nwind = northern_hemi_df[\"Wind Speed\"]\n",
    "\n",
    "\n",
    "(slope, intercept, rvalue, pvalue, stderr) = linregress(nlat, nwind)\n",
    "regress_values = nlat * slope + intercept\n",
    "line_eq = \"y = \" + str(round(slope,2)) + \"x + \" + str(round(intercept,2))\n",
    "\n",
    "plt.scatter(nlat,nwind)\n",
    "\n",
    "plt.xlabel('Latitude')\n",
    "plt.ylabel('Wind Speed')\n",
    "\n",
    "print(f\"R squared: {rvalue**2}\")\n",
    "\n",
    "# Plot regression line\n",
    "plt.plot(nlat,regress_values,\"r-\")\n",
    "plt.annotate(line_eq,(6,10),fontsize=15,color=\"red\")\n",
    "plt.show()"
   ]
  },
  {
   "cell_type": "code",
   "execution_count": 42,
   "metadata": {},
   "outputs": [
    {
     "name": "stdout",
     "output_type": "stream",
     "text": [
      "R squared: 0.08066295743479523\n"
     ]
    },
    {
     "data": {
      "image/png": "[encoded data removed]",
      "text/plain": [
       "<Figure size 640x480 with 1 Axes>"
      ]
     },
     "metadata": {},
     "output_type": "display_data"
    }
   ],
   "source": [
    "# Southern Hemisphere\n",
    "swind = southern_hemi_df[\"Wind Speed\"]\n",
    "\n",
    "\n",
    "(slope, intercept, rvalue, pvalue, stderr) = linregress(slat, swind)\n",
    "regress_values = slat * slope + intercept\n",
    "line_eq = \"y = \" + str(round(slope,2)) + \"x + \" + str(round(intercept,2))\n",
    "\n",
    "plt.scatter(slat,swind)\n",
    "\n",
    "plt.xlabel('Latitude')\n",
    "plt.ylabel('Wind Speed')\n",
    "\n",
    "print(f\"R squared: {rvalue**2}\")\n",
    "\n",
    "# Plot regression line\n",
    "plt.plot(slat,regress_values,\"r-\")\n",
    "plt.annotate(line_eq,(6,10),fontsize=15,color=\"red\")\n",
    "plt.show()"
   ]
  },
  {
   "cell_type": "markdown",
   "metadata": {},
   "source": [
    "**Discussion about the linear relationship:** YOUR RESPONSE HERE"
   ]
  },
  {
   "cell_type": "code",
   "execution_count": null,
   "metadata": {},
   "outputs": [],
   "source": []
  }
 ],
 "metadata": {
  "anaconda-cloud": {},
  "kernel_info": {
   "name": "python3"
  },
  "kernelspec": {
   "display_name": "Python 3 (ipykernel)",
   "language": "python",
   "name": "python3"
  },
  "language_info": {
   "codemirror_mode": {
    "name": "ipython",
    "version": 3
   },
   "file_extension": ".py",
   "mimetype": "text/x-python",
   "name": "python",
   "nbconvert_exporter": "python",
   "pygments_lexer": "ipython3",
   "version": "3.9.13"
  },
  "latex_envs": {
   "LaTeX_envs_menu_present": true,
   "autoclose": false,
   "autocomplete": true,
   "bibliofile": "biblio.bib",
   "cite_by": "apalike",
   "current_citInitial": 1,
   "eqLabelWithNumbers": true,
   "eqNumInitial": 1,
   "hotkeys": {
    "equation": "Ctrl-E",
    "itemize": "Ctrl-I"
   },
   "labels_anchors": false,
   "latex_user_defs": false,
   "report_style_numbering": false,
   "user_envs_cfg": false
  },
  "nteract": {
   "version": "0.12.3"
  }
 },
 "nbformat": 4,
 "nbformat_minor": 4
}
